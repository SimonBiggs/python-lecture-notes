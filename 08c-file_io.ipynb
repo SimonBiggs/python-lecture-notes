{
 "cells": [
  {
   "cell_type": "markdown",
   "metadata": {},
   "source": [
    "# Programming with Python (lab classes)\n",
    "#### Vedran Šego, [vsego.org](http://vsego.org/)\n",
    "\n",
    "## Content:\n",
    "\n",
    "1. Files"
   ]
  },
  {
   "cell_type": "markdown",
   "metadata": {},
   "source": [
    "Download the file [`Met_Office_2011_Air_Data.csv`](http://www.metoffice.gov.uk/media/csv/4/9/Met_Office_2011_Air_Data.csv) from [data.gov.uk](http://data.gov.uk/dataset/flight-data-2011/resource/e1be1a0a-565a-40cd-a8a7-e0bdf4f50dcc)."
   ]
  },
  {
   "cell_type": "markdown",
   "metadata": {},
   "source": [
    "**Problem 1.** Write a program that reads the file `Met_Office_2011_Air_Data.csv` and prints:\n",
    "\n",
    "* Total cost for all the flights,\n",
    "\n",
    "* Total cost per each air carrier, sorted by that cost (i.e., the last carrier will be the one with whom the spending was biggest)."
   ]
  },
  {
   "cell_type": "markdown",
   "metadata": {},
   "source": [
    "**Problem 2.** Write a program that inputs a journey finishing point and then reads the file `Met_Office_2011_Air_Data.csv` and prints total and average cost for all the journeys with that finishing point. The matching has to be case insensitive."
   ]
  },
  {
   "cell_type": "markdown",
   "metadata": {},
   "source": [
    "**Problem 3.** Write a program that reads the file `Met_Office_2011_Air_Data.csv` and in the directory `output` creates the files `single.csv` and `return.csv`, containing only the data for single and return flights, respectively. It has to copy all the data except the \"Ticket Single or Return\" column and both files have to be proper CSV files (with headers, and a comma as the column separator).\n",
    "\n",
    "Use the function [`os.path.exists`](https://docs.python.org/3/library/os.path.html#os.path.exists) to check if the output directory exists, the function [`os.mkdir`](https://docs.python.org/3/library/os.html#os.mkdir) to create it, and the function [`os.path.join`](https://docs.python.org/3/library/os.path.html#os.path.join) to join the directory name with filenames to create the output files' path names."
   ]
  },
  {
   "cell_type": "markdown",
   "metadata": {},
   "source": [
    "**Problem 4.** How many public toilets are there in each of the Australian towns, and how many of them are there in each of the Australian states? Of those towns that have a public toilet, which ones have the longest name and which one has the most toilets (and how many)?\n",
    "\n",
    "**Hint:** Write a program that will answer these questions by analyzing the data that can be obtained [here](https://data.gov.au/dataset/national-public-toilet-map/resource/4ff62ef6-5006-4e9a-bc65-83e8493f65ba)."
   ]
  }
 ],
 "metadata": {},
 "nbformat": 4,
 "nbformat_minor": 0
}
